{
 "cells": [
  {
   "cell_type": "code",
   "execution_count": 1,
   "metadata": {},
   "outputs": [],
   "source": [
    "import os, sys\n",
    "\n",
    "import numpy as np\n",
    "import pandas as pd\n",
    "import matplotlib.pyplot as plt\n",
    "\n",
    "from PIL import Image"
   ]
  },
  {
   "cell_type": "code",
   "execution_count": 38,
   "metadata": {},
   "outputs": [
    {
     "name": "stdout",
     "output_type": "stream",
     "text": [
      "(5170, 60, 60, 3)\n"
     ]
    }
   ],
   "source": [
    "dir_host_imgs = \"../data/ZTFBTS/hostImgs/\"\n",
    "host_imgs = []\n",
    "\n",
    "for filename in os.listdir(dir_host_imgs):\n",
    "    file_path = os.path.join(dir_host_imgs, filename)\n",
    "    # filename ends with .png\n",
    "    if file_path.endswith(\".png\"):\n",
    "        host_img = Image.open(file_path).convert('RGB')\n",
    "        host_img = np.asarray(host_img)\n",
    "        host_imgs.append(host_img)\n",
    "\n",
    "host_imgs = np.array(host_imgs)\n",
    "print(host_imgs.shape)"
   ]
  },
  {
   "cell_type": "code",
   "execution_count": 6,
   "metadata": {},
   "outputs": [
    {
     "data": {
      "text/html": [
       "<div>\n",
       "<style scoped>\n",
       "    .dataframe tbody tr th:only-of-type {\n",
       "        vertical-align: middle;\n",
       "    }\n",
       "\n",
       "    .dataframe tbody tr th {\n",
       "        vertical-align: top;\n",
       "    }\n",
       "\n",
       "    .dataframe thead th {\n",
       "        text-align: right;\n",
       "    }\n",
       "</style>\n",
       "<table border=\"1\" class=\"dataframe\">\n",
       "  <thead>\n",
       "    <tr style=\"text-align: right;\">\n",
       "      <th></th>\n",
       "      <th>time</th>\n",
       "      <th>mag</th>\n",
       "      <th>magerr</th>\n",
       "      <th>band</th>\n",
       "    </tr>\n",
       "  </thead>\n",
       "  <tbody>\n",
       "    <tr>\n",
       "      <th>0</th>\n",
       "      <td>58312.219097</td>\n",
       "      <td>20.132299</td>\n",
       "      <td>0.252360</td>\n",
       "      <td>R</td>\n",
       "    </tr>\n",
       "    <tr>\n",
       "      <th>1</th>\n",
       "      <td>58319.205984</td>\n",
       "      <td>18.713728</td>\n",
       "      <td>0.104188</td>\n",
       "      <td>g</td>\n",
       "    </tr>\n",
       "    <tr>\n",
       "      <th>2</th>\n",
       "      <td>58319.224942</td>\n",
       "      <td>18.808235</td>\n",
       "      <td>0.092660</td>\n",
       "      <td>R</td>\n",
       "    </tr>\n",
       "    <tr>\n",
       "      <th>3</th>\n",
       "      <td>58320.174525</td>\n",
       "      <td>18.467438</td>\n",
       "      <td>0.093920</td>\n",
       "      <td>g</td>\n",
       "    </tr>\n",
       "    <tr>\n",
       "      <th>4</th>\n",
       "      <td>58324.179444</td>\n",
       "      <td>18.514769</td>\n",
       "      <td>0.117073</td>\n",
       "      <td>R</td>\n",
       "    </tr>\n",
       "  </tbody>\n",
       "</table>\n",
       "</div>"
      ],
      "text/plain": [
       "           time        mag    magerr band\n",
       "0  58312.219097  20.132299  0.252360    R\n",
       "1  58319.205984  18.713728  0.104188    g\n",
       "2  58319.224942  18.808235  0.092660    R\n",
       "3  58320.174525  18.467438  0.093920    g\n",
       "4  58324.179444  18.514769  0.117073    R"
      ]
     },
     "execution_count": 6,
     "metadata": {},
     "output_type": "execute_result"
    }
   ],
   "source": [
    "dir_light_curves = \"../data/ZTFBTS/light-curves/\"\n",
    "\n",
    "def open_light_curve_csv(filename):\n",
    "    file_path = os.path.join(dir_light_curves, filename)\n",
    "    df = pd.read_csv(file_path)\n",
    "    return df\n",
    "\n",
    "light_curve_df = open_light_curve_csv(\"ZTF18aailmnv.csv\")\n",
    "light_curve_df.head()"
   ]
  },
  {
   "cell_type": "code",
   "execution_count": 32,
   "metadata": {},
   "outputs": [
    {
     "name": "stderr",
     "output_type": "stream",
     "text": [
      "100%|██████████| 5170/5170 [00:03<00:00, 1627.92it/s]\n"
     ]
    }
   ],
   "source": [
    "from tqdm import tqdm\n",
    "\n",
    "lightcurve_files = os.listdir(dir_light_curves)\n",
    "band = 'R'\n",
    "n_max_obs = 100\n",
    "\n",
    "# For entries with > n_max_obs observations, randomly sample n_max_obs observations (hmjd, mag, and magerr with same sample) from the light curve\n",
    "# Pad the entries to n_max_obs observations with zeros and create a mask array\n",
    "mask_list = []\n",
    "mag_list = []\n",
    "magerr_list = []\n",
    "time_list = []\n",
    "\n",
    "for filename in tqdm(lightcurve_files):\n",
    "    if filename.endswith(\".csv\"):\n",
    "        light_curve_df = open_light_curve_csv(filename)\n",
    "        \n",
    "        # Make sure the csv contains 'time', 'mag', 'magerr', and 'band' columns\n",
    "        if not all(col in light_curve_df.columns for col in ['time', 'mag', 'magerr', 'band']):\n",
    "            continue\n",
    "        \n",
    "        bands = light_curve_df['band'].unique()\n",
    "        df_band = light_curve_df[light_curve_df['band'] == band]\n",
    "\n",
    "        if len(df_band['mag']) > n_max_obs:\n",
    "            mask = np.ones(n_max_obs, dtype=bool)\n",
    "            mask_list.append(mask)\n",
    "            indices = np.random.choice(len(df_band['mag']), n_max_obs)\n",
    "            time = df_band['time'].values[indices]\n",
    "            mag = df_band['mag'].values[indices]\n",
    "            magerr = df_band['magerr'].values[indices]\n",
    "        else:\n",
    "            mask = np.zeros(n_max_obs, dtype=bool)\n",
    "            mask[:len(df_band['mag'])] = True\n",
    "            mask_list.append(mask)\n",
    "\n",
    "            # Pad the arrays with zeros\n",
    "            time = np.pad(df_band['mag'], (0, n_max_obs - len(df_band['mag'])), 'constant')\n",
    "            mag = np.pad(df_band['magerr'], (0, n_max_obs - len(df_band['magerr'])), 'constant')\n",
    "            magerr = np.pad(df_band['time'], (0, n_max_obs - len(df_band['time'])), 'constant')\n",
    "            \n",
    "        time_list.append(time)\n",
    "        mag_list.append(mag)\n",
    "        magerr_list.append(magerr)\n",
    "\n",
    "time_ary = np.array(time_list)\n",
    "mag_ary = np.array(mag_list)\n",
    "magerr_ary = np.array(magerr_list)\n",
    "mask_ary = np.array(mask_list)\n",
    "        "
   ]
  },
  {
   "cell_type": "code",
   "execution_count": 39,
   "metadata": {},
   "outputs": [],
   "source": [
    "import torch\n",
    "import torch.nn as nn"
   ]
  },
  {
   "cell_type": "code",
   "execution_count": 44,
   "metadata": {},
   "outputs": [],
   "source": [
    "class Residual(nn.Module):\n",
    "    def __init__(self, fn):\n",
    "        super().__init__()\n",
    "        self.fn = fn\n",
    "\n",
    "    def forward(self, x):\n",
    "        return self.fn(x) + x\n",
    "    \n",
    "\n",
    "class ConvMixer(nn.Module):\n",
    "    def __init__(self, dim, depth, channels=1, kernel_size=5, patch_size=8, n_out=2):\n",
    "        super(ConvMixer, self).__init__()\n",
    "\n",
    "        self.net = nn.Sequential(\n",
    "            nn.Conv2d(channels, dim, kernel_size=patch_size, stride=patch_size, bias=False),\n",
    "            nn.GELU(),\n",
    "            nn.BatchNorm2d(dim),\n",
    "            *[nn.Sequential(\n",
    "                    Residual(nn.Sequential(\n",
    "                        nn.Conv2d(dim, dim, kernel_size, groups=dim, padding=\"same\"),\n",
    "                        nn.GELU(),\n",
    "                        nn.BatchNorm2d(dim)\n",
    "                    )),\n",
    "                    nn.Conv2d(dim, dim, kernel_size=1),\n",
    "                    nn.GELU(),\n",
    "                    nn.BatchNorm2d(dim)\n",
    "            ) for i in range(depth)],\n",
    "            nn.AdaptiveAvgPool2d((1,1)),\n",
    "            nn.Flatten(),\n",
    "            nn.Linear(dim, 2048),\n",
    "            nn.GELU(),\n",
    "            nn.Linear(2048, 1024),\n",
    "            nn.GELU(),\n",
    "            nn.Linear(1024, n_out)\n",
    "        )\n",
    "\n",
    "    def forward(self, x):\n",
    "        return self.net(x)"
   ]
  },
  {
   "cell_type": "code",
   "execution_count": null,
   "metadata": {},
   "outputs": [],
   "source": [
    "host_imgs = torch.from_numpy(host_imgs).float()"
   ]
  },
  {
   "cell_type": "code",
   "execution_count": 49,
   "metadata": {},
   "outputs": [],
   "source": [
    "from einops import rearrange\n",
    "host_imgs = rearrange(host_imgs, 'b h w c -> b c h w')"
   ]
  },
  {
   "cell_type": "code",
   "execution_count": 70,
   "metadata": {},
   "outputs": [
    {
     "data": {
      "text/plain": [
       "torch.Size([2, 128])"
      ]
     },
     "execution_count": 70,
     "metadata": {},
     "output_type": "execute_result"
    }
   ],
   "source": [
    "convmixer = ConvMixer(dim=60, depth=8, channels=3, kernel_size=5, patch_size=8, n_out=128)\n",
    "convmixer(host_imgs[:2]).shape"
   ]
  },
  {
   "cell_type": "code",
   "execution_count": 71,
   "metadata": {},
   "outputs": [],
   "source": [
    "import math\n",
    "\n",
    "import sys\n",
    "sys.path.append('../')\n",
    "from models.transformer_utils import Transformer\n",
    "\n",
    "class TimePositionalEncoding(nn.Module):\n",
    "\n",
    "    def __init__(self, d_emb):\n",
    "        \"\"\"\n",
    "        Inputs\n",
    "            d_model - Hidden dimensionality.\n",
    "        \"\"\"\n",
    "        super().__init__()\n",
    "        self.d_emb = d_emb\n",
    "\n",
    "    def forward(self, t):\n",
    "        pe = torch.zeros(t.shape[0], t.shape[1], self.d_emb).to(t.device)  # (B, T, D)\n",
    "        div_term = torch.exp(torch.arange(0, self.d_emb, 2).float() * (-math.log(10000.0) / self.d_emb))[None, None, :].to(t.device)  # (1, 1, D / 2)\n",
    "        t = t.unsqueeze(2)  # (B, 1, T)\n",
    "        pe[:, :, 0::2] = torch.sin(t * div_term)  # (B, T, D / 2)\n",
    "        pe[:, :, 1::2] = torch.cos(t * div_term)  # (B, T, D / 2)\n",
    "        return pe  # (B, T, D)\n",
    "\n",
    "class TransformerWithTimeEmbeddings(nn.Module):\n",
    "    \"\"\"\n",
    "    Transformer for classifying sequences\n",
    "    \"\"\"\n",
    "\n",
    "    def __init__(self, n_out=1, **kwargs):\n",
    "        \"\"\"\n",
    "        :param emb: Embedding dimension\n",
    "        :param heads: nr. of attention heads\n",
    "        :param depth: Number of transformer blocks\n",
    "        :param seq_length: Expected maximum sequence length\n",
    "        :param num_classes: Number of classes.\n",
    "        :param max_pool: If true, use global max pooling in the last layer. If false, use global\n",
    "                         average pooling.\n",
    "        \"\"\"\n",
    "        super().__init__()\n",
    "        \n",
    "        self.embedding_mag = nn.Linear(in_features=1, out_features=kwargs['emb'])\n",
    "        self.embedding_t = TimePositionalEncoding(kwargs['emb'])\n",
    "        self.transformer = Transformer(**kwargs)\n",
    "        self.projection = nn.Linear(in_features=kwargs['emb'], out_features=n_out)\n",
    "\n",
    "    def forward(self, x, t, mask=None):\n",
    "        \"\"\"\n",
    "        :param x: A batch by sequence length integer tensor of token indices.\n",
    "        :return: predicted log-probability vectors for each token based on the preceding tokens.\n",
    "        \"\"\"\n",
    "        t = t - t[:, 0].unsqueeze(1)\n",
    "        t_emb = self.embedding_t(t)\n",
    "        x = self.embedding_mag(x) + t_emb\n",
    "        x = self.transformer(x, mask)\n",
    "        x = self.projection(x)\n",
    "\n",
    "        # Pool along sequence dim\n",
    "        x = x.mean(dim=1)\n",
    "\n",
    "        # Projection head\n",
    "        x = nn.Linear(x.shape[-1], 128)(x)\n",
    "\n",
    "        return x\n",
    "\n",
    "transformer = TransformerWithTimeEmbeddings(n_out=64, emb=128, heads=2, depth=2)"
   ]
  },
  {
   "cell_type": "code",
   "execution_count": 67,
   "metadata": {},
   "outputs": [],
   "source": [
    "# Time and mag tensors\n",
    "time = torch.from_numpy(time_ary).float()\n",
    "mag = torch.from_numpy(mag_ary).float()\n",
    "mask = torch.from_numpy(mask_ary).bool()"
   ]
  },
  {
   "cell_type": "code",
   "execution_count": 68,
   "metadata": {},
   "outputs": [
    {
     "data": {
      "text/plain": [
       "torch.Size([2, 128])"
      ]
     },
     "execution_count": 68,
     "metadata": {},
     "output_type": "execute_result"
    }
   ],
   "source": [
    "# Pass through transformer\n",
    "transformer(time[:2][..., None], mag[:2], mask[:2]).shape"
   ]
  },
  {
   "cell_type": "code",
   "execution_count": 77,
   "metadata": {},
   "outputs": [
    {
     "data": {
      "text/plain": [
       "tensor([0.7670, 0.7739], grad_fn=<DivBackward0>)"
      ]
     },
     "execution_count": 77,
     "metadata": {},
     "output_type": "execute_result"
    }
   ],
   "source": [
    "import torch.nn.functional as F\n",
    "\n",
    "def _compute_losses(image_embeddings, text_embeddings):\n",
    "\n",
    "    log_softmax = nn.LogSoftmax(dim=1)\n",
    "    temperature = 0.1\n",
    "\n",
    "    logits = (text_embeddings @ image_embeddings.T) / temperature\n",
    "    images_similarity = image_embeddings @ image_embeddings.T\n",
    "    texts_similarity = text_embeddings @ text_embeddings.T\n",
    "    targets = F.softmax(\n",
    "        (images_similarity + texts_similarity) / 2 * temperature, dim=-1\n",
    "    )\n",
    "    images_loss = (-targets.T * log_softmax(logits.T)).sum(1)\n",
    "    texts_loss = (-targets * log_softmax(logits)).sum(1)\n",
    "    return (images_loss + texts_loss) / 2.0\n",
    "\n",
    "_compute_losses(transformer(time[:2][..., None], mag[:2], mask[:2]), convmixer(host_imgs[:2]))"
   ]
  },
  {
   "cell_type": "code",
   "execution_count": null,
   "metadata": {},
   "outputs": [],
   "source": []
  },
  {
   "cell_type": "code",
   "execution_count": null,
   "metadata": {},
   "outputs": [],
   "source": []
  }
 ],
 "metadata": {
  "kernelspec": {
   "display_name": "cfm",
   "language": "python",
   "name": "python3"
  },
  "language_info": {
   "codemirror_mode": {
    "name": "ipython",
    "version": 3
   },
   "file_extension": ".py",
   "mimetype": "text/x-python",
   "name": "python",
   "nbconvert_exporter": "python",
   "pygments_lexer": "ipython3",
   "version": "3.10.12"
  }
 },
 "nbformat": 4,
 "nbformat_minor": 2
}
